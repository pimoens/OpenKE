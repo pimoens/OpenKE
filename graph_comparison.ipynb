{
 "cells": [
  {
   "cell_type": "code",
   "execution_count": 9,
   "id": "a78b4989-fa87-4961-9326-3ae9ba3d674a",
   "metadata": {},
   "outputs": [],
   "source": [
    "import grakel\n",
    "from grakel.kernels import WeisfeilerLehman, VertexHistogram, ShortestPath, SubgraphMatching\n",
    "import os\n",
    "from rdflib import Graph\n",
    "from rdflib.extras.external_graph_libs import rdflib_to_networkx_multidigraph"
   ]
  },
  {
   "cell_type": "code",
   "execution_count": 10,
   "id": "9789d808-db94-438f-9a74-1729c827374d",
   "metadata": {},
   "outputs": [],
   "source": [
    "base_dir = '/home/pieter/Documents/ugent/phd/projects/PreDICT/PROTEGO/datasets/data/output/patients'\n",
    "\n",
    "G_nx = []\n",
    "pid = []\n",
    "for graph_f in os.listdir(base_dir):\n",
    "    if graph_f.endswith('.ttl'):\n",
    "        graph = Graph()\n",
    "        graph.parse(os.path.join(base_dir, graph_f), format='turtle')\n",
    "        \n",
    "        networkx_graph = rdflib_to_networkx_multidigraph(graph)            \n",
    "        G_nx.append(networkx_graph)\n",
    "        pid.append(graph_f.split('.')[0])\n",
    "        \n",
    "graphs = list(grakel.utils.graph_from_networkx(G_nx))"
   ]
  },
  {
   "cell_type": "code",
   "execution_count": 11,
   "id": "29b41320-399f-4ce1-a757-9c5d751469b2",
   "metadata": {},
   "outputs": [
    {
     "name": "stdout",
     "output_type": "stream",
     "text": [
      "zplus_1\n"
     ]
    }
   ],
   "source": [
    "gk = ShortestPath(with_labels=False, normalize=True)\n",
    "\n",
    "gk.fit_transform(graphs[:1])\n",
    "print(pid[0])"
   ]
  },
  {
   "cell_type": "code",
   "execution_count": null,
   "id": "97df1009-f906-46e9-b9a3-860c46c7f377",
   "metadata": {},
   "outputs": [],
   "source": [
    "simularities = gk.transform(graphs[1:])"
   ]
  },
  {
   "cell_type": "code",
   "execution_count": null,
   "id": "1f321844-46ae-40cd-a569-e8fe3fcc9aed",
   "metadata": {},
   "outputs": [],
   "source": [
    "for idx, sim in enumerate(simularities):\n",
    "    print(f'{pid[idx + 1]} - {sim}')"
   ]
  },
  {
   "cell_type": "code",
   "execution_count": 6,
   "id": "85524e42-1f4e-4360-aa51-209c5f6f601d",
   "metadata": {},
   "outputs": [],
   "source": [
    "# gk = SubgraphMatching(with_labels=False, normalize=True)\n",
    "\n",
    "# gk.fit_transform(graphs[:1])"
   ]
  },
  {
   "cell_type": "code",
   "execution_count": 7,
   "id": "6370393f-3b31-4679-a3fa-adca31fd2bac",
   "metadata": {},
   "outputs": [],
   "source": [
    "# simularities = gk.transform(graphs[1:])"
   ]
  },
  {
   "cell_type": "code",
   "execution_count": 8,
   "id": "1423ef91-c22e-48e8-8e71-ae05abe101b9",
   "metadata": {},
   "outputs": [],
   "source": [
    "# https://ysig.github.io/GraKeL/0.1a8/auto_examples/document_retrieval_example.html\n",
    "\n",
    "# # Initialize Weisfeiler-Lehman subtree kernel\n",
    "# gk = WeisfeilerLehman(n_iter=2, normalize=True, base_graph_kernel=VertexHistogram)\n",
    "\n",
    "# print(\"Computing similarities\\n\")\n",
    "# # t0 = time.time()\n",
    "\n",
    "# gk.fit(graphs[:1])\n",
    "# K = gk.transform(graphs[1:])\n",
    "\n",
    "# # print(\"done in %0.3fs\\n\" % (time.time() - t0))"
   ]
  },
  {
   "cell_type": "code",
   "execution_count": null,
   "id": "f8b220a1-9a65-46fc-a714-721757c04946",
   "metadata": {},
   "outputs": [],
   "source": []
  }
 ],
 "metadata": {
  "kernelspec": {
   "display_name": "Python 3 (ipykernel)",
   "language": "python",
   "name": "python3"
  },
  "language_info": {
   "codemirror_mode": {
    "name": "ipython",
    "version": 3
   },
   "file_extension": ".py",
   "mimetype": "text/x-python",
   "name": "python",
   "nbconvert_exporter": "python",
   "pygments_lexer": "ipython3",
   "version": "3.9.12"
  }
 },
 "nbformat": 4,
 "nbformat_minor": 5
}