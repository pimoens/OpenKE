{
 "cells": [
  {
   "cell_type": "code",
   "execution_count": 1,
   "id": "18d7d2cf-1a18-45e8-8b07-95c17f84c7a7",
   "metadata": {},
   "outputs": [],
   "source": [
    "import os\n",
    "import random\n",
    "from rdflib import Graph"
   ]
  },
  {
   "cell_type": "code",
   "execution_count": 2,
   "id": "ca595dd9-d481-491c-bf0e-9496172df72f",
   "metadata": {},
   "outputs": [],
   "source": [
    "benchmark_folder = '../benchmarks/DASHB/subgraphs/{pid}/'\n",
    "patient_data_file = '../benchmarks/DASHB/patients/{pid}.ttl'"
   ]
  },
  {
   "cell_type": "code",
   "execution_count": 3,
   "id": "7de153d1-8209-47d7-afc0-b32c7ddc6b42",
   "metadata": {},
   "outputs": [
    {
     "data": {
      "text/plain": [
       "<Graph identifier=N59de15e9466f42b18439d8633c698199 (<class 'rdflib.graph.Graph'>)>"
      ]
     },
     "execution_count": 3,
     "metadata": {},
     "output_type": "execute_result"
    }
   ],
   "source": [
    "patient = Graph()\n",
    "patient.parse(patient_data_file.format(pid='zplus_1'), format='turtle')"
   ]
  },
  {
   "cell_type": "markdown",
   "id": "408d476c-d000-4317-bf93-ab459bd48c93",
   "metadata": {},
   "source": [
    "### Entity2Id.txt"
   ]
  },
  {
   "cell_type": "code",
   "execution_count": 4,
   "id": "80afd72f-19b1-4cc9-950e-727b5d42762d",
   "metadata": {},
   "outputs": [
    {
     "name": "stdout",
     "output_type": "stream",
     "text": [
      "Unique entities = 87\n"
     ]
    }
   ],
   "source": [
    "entities = list(patient.subjects(predicate=None, object=None))\n",
    "entities.extend(list(patient.objects(subject=None, predicate=None)))\n",
    "unique_entities = list(set(entities))\n",
    "\n",
    "print(f'Unique entities = {len(unique_entities)}')"
   ]
  },
  {
   "cell_type": "code",
   "execution_count": 5,
   "id": "c131d9e6-9ad0-43f1-8e56-11f148522a01",
   "metadata": {},
   "outputs": [],
   "source": [
    "with open(os.path.join(benchmark_folder, 'entity2id.txt'), 'w') as relation_f:\n",
    "    relation_f.write(str(len(unique_entities)) + '\\n')\n",
    "    \n",
    "    for idx in range(len(unique_entities)):\n",
    "        relation_f.write(f'{unique_entities[idx]}\\t{idx}\\n')"
   ]
  },
  {
   "cell_type": "markdown",
   "id": "66654e30-972e-4be1-b242-3fc6996a4d95",
   "metadata": {},
   "source": [
    "### Relation2Id.txt"
   ]
  },
  {
   "cell_type": "code",
   "execution_count": 6,
   "id": "f0d888fc-57c3-4871-ac27-5bfefd0cb991",
   "metadata": {},
   "outputs": [
    {
     "name": "stdout",
     "output_type": "stream",
     "text": [
      "Unique relations = 14\n"
     ]
    }
   ],
   "source": [
    "relations = patient.predicates(subject=None, object=None)\n",
    "unique_relations = list(set(relations))\n",
    "\n",
    "print(f'Unique relations = {len(unique_relations)}')"
   ]
  },
  {
   "cell_type": "code",
   "execution_count": 7,
   "id": "3114511e-573c-406e-a713-d6d22bd74ac2",
   "metadata": {},
   "outputs": [],
   "source": [
    "with open(os.path.join(benchmark_folder, 'relation2id.txt'), 'w') as relation_f:\n",
    "    relation_f.write(str(len(unique_relations)) + '\\n')\n",
    "    \n",
    "    for idx in range(len(unique_relations)):\n",
    "        relation_f.write(f'{unique_relations[idx]}\\t{idx}\\n')"
   ]
  },
  {
   "cell_type": "markdown",
   "id": "608974a8-3e8a-49b4-8eef-6f1a64773268",
   "metadata": {},
   "source": [
    "### Triples \n",
    "\n",
    "(e1, e2, rel) cf. [documentation](http://139.129.163.161/static/notes/data.html)"
   ]
  },
  {
   "cell_type": "code",
   "execution_count": 8,
   "id": "4dd6dfa0-7999-47fa-8e96-02209b682963",
   "metadata": {},
   "outputs": [
    {
     "name": "stdout",
     "output_type": "stream",
     "text": [
      "Triples = 171\n"
     ]
    }
   ],
   "source": [
    "triples = list(patient.triples((None, None, None)))\n",
    "\n",
    "print(f'Triples = {len(triples)}')"
   ]
  },
  {
   "cell_type": "code",
   "execution_count": 9,
   "id": "2373f6df-27d8-4d21-abf4-b756dd01cc1c",
   "metadata": {},
   "outputs": [
    {
     "name": "stdout",
     "output_type": "stream",
     "text": [
      "[(0, 137), (137, 163), (163, 170)]\n"
     ]
    }
   ],
   "source": [
    "split_ratio = [0.8, 0.15, 0.05]  # [train, test, validation]\n",
    "slices = []\n",
    "\n",
    "start = 0\n",
    "for split in split_ratio:\n",
    "    end = round(split * len(triples))\n",
    "    slices.append((start, min(start + end, len(triples) - 1)))\n",
    "    start += end\n",
    "print(slices)"
   ]
  },
  {
   "cell_type": "code",
   "execution_count": 10,
   "id": "8842cb77-15f4-472a-be0f-dbedc1420ce1",
   "metadata": {},
   "outputs": [
    {
     "name": "stdout",
     "output_type": "stream",
     "text": [
      "137 26 7\n"
     ]
    }
   ],
   "source": [
    "validation = triples[slices[2][0]:slices[2][1]]\n",
    "\n",
    "train, test, validation = [triples[slice_[0]:slice_[1]] for slice_ in slices]\n",
    "print(len(train), len(test), len(validation))"
   ]
  },
  {
   "cell_type": "code",
   "execution_count": 11,
   "id": "40bab1f2-69c8-4a4c-8b66-cc02e0ecb9af",
   "metadata": {},
   "outputs": [],
   "source": [
    "with open(os.path.join(benchmark_folder, 'train2id.txt'), 'w') as train_f:\n",
    "    train_f.write(str(len(train)) + '\\n')\n",
    "    \n",
    "    for idx in range(len(train)):\n",
    "        e1, rel, e2 = train[idx]\n",
    "        e1_id = unique_entities.index(e1)\n",
    "        e2_id = unique_entities.index(e2)\n",
    "        rel_id = unique_relations.index(rel)\n",
    "        \n",
    "        train_f.write(f'{e1_id}\\t{e2_id}\\t{rel_id}\\n')"
   ]
  },
  {
   "cell_type": "code",
   "execution_count": 12,
   "id": "3170a322-1a2a-4d99-91fa-58fe10f99ae1",
   "metadata": {},
   "outputs": [],
   "source": [
    "with open(os.path.join(benchmark_folder, 'test2id.txt'), 'w') as test_f:\n",
    "    test_f.write(str(len(test)) + '\\n')\n",
    "    \n",
    "    for idx in range(len(test)):\n",
    "        e1, rel, e2 = test[idx]\n",
    "        e1_id = unique_entities.index(e1)\n",
    "        e2_id = unique_entities.index(e2)\n",
    "        rel_id = unique_relations.index(rel)\n",
    "        \n",
    "        test_f.write(f'{e1_id}\\t{e2_id}\\t{rel_id}\\n')"
   ]
  },
  {
   "cell_type": "code",
   "execution_count": 13,
   "id": "d6447b30-bd3a-41a4-b1a3-1b58a70c5850",
   "metadata": {},
   "outputs": [],
   "source": [
    "with open(os.path.join(benchmark_folder, 'valid2id.txt'), 'w') as validation_f:\n",
    "    validation_f.write(str(len(validation)) + '\\n')\n",
    "    \n",
    "    for idx in range(len(validation)):\n",
    "        e1, rel, e2 = validation[idx]\n",
    "        e1_id = unique_entities.index(e1)\n",
    "        e2_id = unique_entities.index(e2)\n",
    "        rel_id = unique_relations.index(rel)\n",
    "        \n",
    "        validation_f.write(f'{e1_id}\\t{e2_id}\\t{rel_id}\\n')"
   ]
  }
 ],
 "metadata": {
  "kernelspec": {
   "display_name": "Python 3 (ipykernel)",
   "language": "python",
   "name": "python3"
  },
  "language_info": {
   "codemirror_mode": {
    "name": "ipython",
    "version": 3
   },
   "file_extension": ".py",
   "mimetype": "text/x-python",
   "name": "python",
   "nbconvert_exporter": "python",
   "pygments_lexer": "ipython3",
   "version": "3.9.12"
  }
 },
 "nbformat": 4,
 "nbformat_minor": 5
}
