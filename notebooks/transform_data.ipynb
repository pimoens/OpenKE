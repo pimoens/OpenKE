{
 "cells": [
  {
   "cell_type": "code",
   "execution_count": 1,
   "id": "18d7d2cf-1a18-45e8-8b07-95c17f84c7a7",
   "metadata": {},
   "outputs": [],
   "source": [
    "import os\n",
    "import random\n",
    "from rdflib import Graph"
   ]
  },
  {
   "cell_type": "code",
   "execution_count": 2,
   "id": "ca595dd9-d481-491c-bf0e-9496172df72f",
   "metadata": {},
   "outputs": [],
   "source": [
    "benchmark_folder = '../benchmarks/DASHB/'\n",
    "patient_data_file = '../benchmarks/DASHB/patients/{pid}.ttl'"
   ]
  },
  {
   "cell_type": "code",
   "execution_count": 3,
   "id": "7de153d1-8209-47d7-afc0-b32c7ddc6b42",
   "metadata": {},
   "outputs": [
    {
     "ename": "FileNotFoundError",
     "evalue": "[Errno 2] No such file or directory: '/home/pieter/benchmarks/DASHB/context/zplus_1.ttl'",
     "output_type": "error",
     "traceback": [
      "\u001b[0;31m---------------------------------------------------------------------------\u001b[0m",
      "\u001b[0;31mFileNotFoundError\u001b[0m                         Traceback (most recent call last)",
      "Input \u001b[0;32mIn [3]\u001b[0m, in \u001b[0;36m<cell line: 2>\u001b[0;34m()\u001b[0m\n\u001b[1;32m      1\u001b[0m patient \u001b[38;5;241m=\u001b[39m Graph()\n\u001b[0;32m----> 2\u001b[0m \u001b[43mpatient\u001b[49m\u001b[38;5;241;43m.\u001b[39;49m\u001b[43mparse\u001b[49m\u001b[43m(\u001b[49m\u001b[43mpatient_data_file\u001b[49m\u001b[38;5;241;43m.\u001b[39;49m\u001b[43mformat\u001b[49m\u001b[43m(\u001b[49m\u001b[43mpid\u001b[49m\u001b[38;5;241;43m=\u001b[39;49m\u001b[38;5;124;43m'\u001b[39;49m\u001b[38;5;124;43mzplus_1\u001b[39;49m\u001b[38;5;124;43m'\u001b[39;49m\u001b[43m)\u001b[49m\u001b[43m,\u001b[49m\u001b[43m \u001b[49m\u001b[38;5;28;43mformat\u001b[39;49m\u001b[38;5;241;43m=\u001b[39;49m\u001b[38;5;124;43m'\u001b[39;49m\u001b[38;5;124;43mturtle\u001b[39;49m\u001b[38;5;124;43m'\u001b[39;49m\u001b[43m)\u001b[49m\n",
      "File \u001b[0;32m~/anaconda3/envs/OpenKE/lib/python3.9/site-packages/rdflib/graph.py:1234\u001b[0m, in \u001b[0;36mGraph.parse\u001b[0;34m(self, source, publicID, format, location, file, data, **args)\u001b[0m\n\u001b[1;32m   1153\u001b[0m \u001b[38;5;28;01mdef\u001b[39;00m \u001b[38;5;21mparse\u001b[39m(\n\u001b[1;32m   1154\u001b[0m     \u001b[38;5;28mself\u001b[39m,\n\u001b[1;32m   1155\u001b[0m     source\u001b[38;5;241m=\u001b[39m\u001b[38;5;28;01mNone\u001b[39;00m,\n\u001b[0;32m   (...)\u001b[0m\n\u001b[1;32m   1161\u001b[0m     \u001b[38;5;241m*\u001b[39m\u001b[38;5;241m*\u001b[39margs,\n\u001b[1;32m   1162\u001b[0m ):\n\u001b[1;32m   1163\u001b[0m     \u001b[38;5;124;03m\"\"\"\u001b[39;00m\n\u001b[1;32m   1164\u001b[0m \u001b[38;5;124;03m    Parse an RDF source adding the resulting triples to the Graph.\u001b[39;00m\n\u001b[1;32m   1165\u001b[0m \n\u001b[0;32m   (...)\u001b[0m\n\u001b[1;32m   1231\u001b[0m \n\u001b[1;32m   1232\u001b[0m \u001b[38;5;124;03m    \"\"\"\u001b[39;00m\n\u001b[0;32m-> 1234\u001b[0m     source \u001b[38;5;241m=\u001b[39m \u001b[43mcreate_input_source\u001b[49m\u001b[43m(\u001b[49m\n\u001b[1;32m   1235\u001b[0m \u001b[43m        \u001b[49m\u001b[43msource\u001b[49m\u001b[38;5;241;43m=\u001b[39;49m\u001b[43msource\u001b[49m\u001b[43m,\u001b[49m\n\u001b[1;32m   1236\u001b[0m \u001b[43m        \u001b[49m\u001b[43mpublicID\u001b[49m\u001b[38;5;241;43m=\u001b[39;49m\u001b[43mpublicID\u001b[49m\u001b[43m,\u001b[49m\n\u001b[1;32m   1237\u001b[0m \u001b[43m        \u001b[49m\u001b[43mlocation\u001b[49m\u001b[38;5;241;43m=\u001b[39;49m\u001b[43mlocation\u001b[49m\u001b[43m,\u001b[49m\n\u001b[1;32m   1238\u001b[0m \u001b[43m        \u001b[49m\u001b[43mfile\u001b[49m\u001b[38;5;241;43m=\u001b[39;49m\u001b[43mfile\u001b[49m\u001b[43m,\u001b[49m\n\u001b[1;32m   1239\u001b[0m \u001b[43m        \u001b[49m\u001b[43mdata\u001b[49m\u001b[38;5;241;43m=\u001b[39;49m\u001b[43mdata\u001b[49m\u001b[43m,\u001b[49m\n\u001b[1;32m   1240\u001b[0m \u001b[43m        \u001b[49m\u001b[38;5;28;43mformat\u001b[39;49m\u001b[38;5;241;43m=\u001b[39;49m\u001b[38;5;28;43mformat\u001b[39;49m\u001b[43m,\u001b[49m\n\u001b[1;32m   1241\u001b[0m \u001b[43m    \u001b[49m\u001b[43m)\u001b[49m\n\u001b[1;32m   1242\u001b[0m     \u001b[38;5;28;01mif\u001b[39;00m \u001b[38;5;28mformat\u001b[39m \u001b[38;5;129;01mis\u001b[39;00m \u001b[38;5;28;01mNone\u001b[39;00m:\n\u001b[1;32m   1243\u001b[0m         \u001b[38;5;28mformat\u001b[39m \u001b[38;5;241m=\u001b[39m source\u001b[38;5;241m.\u001b[39mcontent_type\n",
      "File \u001b[0;32m~/anaconda3/envs/OpenKE/lib/python3.9/site-packages/rdflib/parser.py:326\u001b[0m, in \u001b[0;36mcreate_input_source\u001b[0;34m(source, publicID, location, file, data, format)\u001b[0m\n\u001b[1;32m    318\u001b[0m auto_close \u001b[38;5;241m=\u001b[39m \u001b[38;5;28;01mFalse\u001b[39;00m  \u001b[38;5;66;03m# make sure we close all file handles we open\u001b[39;00m\n\u001b[1;32m    320\u001b[0m \u001b[38;5;28;01mif\u001b[39;00m location \u001b[38;5;129;01mis\u001b[39;00m \u001b[38;5;129;01mnot\u001b[39;00m \u001b[38;5;28;01mNone\u001b[39;00m:\n\u001b[1;32m    321\u001b[0m     (\n\u001b[1;32m    322\u001b[0m         absolute_location,\n\u001b[1;32m    323\u001b[0m         auto_close,\n\u001b[1;32m    324\u001b[0m         file,\n\u001b[1;32m    325\u001b[0m         input_source,\n\u001b[0;32m--> 326\u001b[0m     ) \u001b[38;5;241m=\u001b[39m \u001b[43m_create_input_source_from_location\u001b[49m\u001b[43m(\u001b[49m\n\u001b[1;32m    327\u001b[0m \u001b[43m        \u001b[49m\u001b[43mfile\u001b[49m\u001b[38;5;241;43m=\u001b[39;49m\u001b[43mfile\u001b[49m\u001b[43m,\u001b[49m\n\u001b[1;32m    328\u001b[0m \u001b[43m        \u001b[49m\u001b[38;5;28;43mformat\u001b[39;49m\u001b[38;5;241;43m=\u001b[39;49m\u001b[38;5;28;43mformat\u001b[39;49m\u001b[43m,\u001b[49m\n\u001b[1;32m    329\u001b[0m \u001b[43m        \u001b[49m\u001b[43minput_source\u001b[49m\u001b[38;5;241;43m=\u001b[39;49m\u001b[43minput_source\u001b[49m\u001b[43m,\u001b[49m\n\u001b[1;32m    330\u001b[0m \u001b[43m        \u001b[49m\u001b[43mlocation\u001b[49m\u001b[38;5;241;43m=\u001b[39;49m\u001b[43mlocation\u001b[49m\u001b[43m,\u001b[49m\n\u001b[1;32m    331\u001b[0m \u001b[43m    \u001b[49m\u001b[43m)\u001b[49m\n\u001b[1;32m    333\u001b[0m \u001b[38;5;28;01mif\u001b[39;00m file \u001b[38;5;129;01mis\u001b[39;00m \u001b[38;5;129;01mnot\u001b[39;00m \u001b[38;5;28;01mNone\u001b[39;00m:\n\u001b[1;32m    334\u001b[0m     input_source \u001b[38;5;241m=\u001b[39m FileInputSource(file)\n",
      "File \u001b[0;32m~/anaconda3/envs/OpenKE/lib/python3.9/site-packages/rdflib/parser.py:373\u001b[0m, in \u001b[0;36m_create_input_source_from_location\u001b[0;34m(file, format, input_source, location)\u001b[0m\n\u001b[1;32m    371\u001b[0m \u001b[38;5;28;01mif\u001b[39;00m absolute_location\u001b[38;5;241m.\u001b[39mstartswith(\u001b[38;5;124m\"\u001b[39m\u001b[38;5;124mfile:///\u001b[39m\u001b[38;5;124m\"\u001b[39m):\n\u001b[1;32m    372\u001b[0m     filename \u001b[38;5;241m=\u001b[39m url2pathname(absolute_location\u001b[38;5;241m.\u001b[39mreplace(\u001b[38;5;124m\"\u001b[39m\u001b[38;5;124mfile:///\u001b[39m\u001b[38;5;124m\"\u001b[39m, \u001b[38;5;124m\"\u001b[39m\u001b[38;5;124m/\u001b[39m\u001b[38;5;124m\"\u001b[39m))\n\u001b[0;32m--> 373\u001b[0m     file \u001b[38;5;241m=\u001b[39m \u001b[38;5;28;43mopen\u001b[39;49m\u001b[43m(\u001b[49m\u001b[43mfilename\u001b[49m\u001b[43m,\u001b[49m\u001b[43m \u001b[49m\u001b[38;5;124;43m\"\u001b[39;49m\u001b[38;5;124;43mrb\u001b[39;49m\u001b[38;5;124;43m\"\u001b[39;49m\u001b[43m)\u001b[49m\n\u001b[1;32m    374\u001b[0m \u001b[38;5;28;01melse\u001b[39;00m:\n\u001b[1;32m    375\u001b[0m     input_source \u001b[38;5;241m=\u001b[39m URLInputSource(absolute_location, \u001b[38;5;28mformat\u001b[39m)\n",
      "\u001b[0;31mFileNotFoundError\u001b[0m: [Errno 2] No such file or directory: '/home/pieter/benchmarks/DASHB/context/zplus_1.ttl'"
     ]
    }
   ],
   "source": [
    "patient = Graph()\n",
    "patient.parse(patient_data_file.format(pid='zplus_1'), format='turtle')"
   ]
  },
  {
   "cell_type": "markdown",
   "id": "408d476c-d000-4317-bf93-ab459bd48c93",
   "metadata": {},
   "source": [
    "### Entity2Id.txt"
   ]
  },
  {
   "cell_type": "code",
   "execution_count": null,
   "id": "80afd72f-19b1-4cc9-950e-727b5d42762d",
   "metadata": {},
   "outputs": [],
   "source": [
    "entities = list(patient.subjects(predicate=None, object=None))\n",
    "entities.extend(list(patient.objects(subject=None, predicate=None)))\n",
    "unique_entities = list(set(entities))\n",
    "\n",
    "print(f'Unique entities = {len(unique_entities)}')"
   ]
  },
  {
   "cell_type": "code",
   "execution_count": null,
   "id": "c131d9e6-9ad0-43f1-8e56-11f148522a01",
   "metadata": {},
   "outputs": [],
   "source": [
    "with open(os.path.join(benchmark_folder, 'entity2id.txt'), 'w') as relation_f:\n",
    "    relation_f.write(str(len(unique_entities)) + '\\n')\n",
    "    \n",
    "    for idx in range(len(unique_entities)):\n",
    "        relation_f.write(f'{unique_entities[idx]}\\t{idx}\\n')"
   ]
  },
  {
   "cell_type": "markdown",
   "id": "66654e30-972e-4be1-b242-3fc6996a4d95",
   "metadata": {},
   "source": [
    "### Relation2Id.txt"
   ]
  },
  {
   "cell_type": "code",
   "execution_count": null,
   "id": "f0d888fc-57c3-4871-ac27-5bfefd0cb991",
   "metadata": {},
   "outputs": [],
   "source": [
    "relations = patient.predicates(subject=None, object=None)\n",
    "unique_relations = list(set(relations))\n",
    "\n",
    "print(f'Unique relations = {len(unique_relations)}')"
   ]
  },
  {
   "cell_type": "code",
   "execution_count": null,
   "id": "3114511e-573c-406e-a713-d6d22bd74ac2",
   "metadata": {},
   "outputs": [],
   "source": [
    "with open(os.path.join(benchmark_folder, 'relation2id.txt'), 'w') as relation_f:\n",
    "    relation_f.write(str(len(unique_relations)) + '\\n')\n",
    "    \n",
    "    for idx in range(len(unique_relations)):\n",
    "        relation_f.write(f'{unique_relations[idx]}\\t{idx}\\n')"
   ]
  },
  {
   "cell_type": "markdown",
   "id": "608974a8-3e8a-49b4-8eef-6f1a64773268",
   "metadata": {},
   "source": [
    "### Triples \n",
    "\n",
    "(e1, e2, rel) cf. [documentation](http://139.129.163.161/static/notes/data.html)"
   ]
  },
  {
   "cell_type": "code",
   "execution_count": null,
   "id": "4dd6dfa0-7999-47fa-8e96-02209b682963",
   "metadata": {},
   "outputs": [],
   "source": [
    "triples = list(patient.triples((None, None, None)))\n",
    "\n",
    "print(f'Triples = {len(triples)}')"
   ]
  },
  {
   "cell_type": "code",
   "execution_count": null,
   "id": "2373f6df-27d8-4d21-abf4-b756dd01cc1c",
   "metadata": {},
   "outputs": [],
   "source": [
    "split_ratio = [0.8, 0.15, 0.05]  # [train, test, validation]\n",
    "slices = []\n",
    "\n",
    "start = 0\n",
    "for split in split_ratio:\n",
    "    end = round(split * len(triples))\n",
    "    slices.append((start, min(start + end, len(triples) - 1)))\n",
    "    start += end\n",
    "print(slices)"
   ]
  },
  {
   "cell_type": "code",
   "execution_count": null,
   "id": "8842cb77-15f4-472a-be0f-dbedc1420ce1",
   "metadata": {},
   "outputs": [],
   "source": [
    "validation = triples[slices[2][0]:slices[2][1]]\n",
    "\n",
    "train, test, validation = [triples[slice_[0]:slice_[1]] for slice_ in slices]\n",
    "print(len(train), len(test), len(validation))"
   ]
  },
  {
   "cell_type": "code",
   "execution_count": null,
   "id": "40bab1f2-69c8-4a4c-8b66-cc02e0ecb9af",
   "metadata": {},
   "outputs": [],
   "source": [
    "with open(os.path.join(benchmark_folder, 'train2id.txt'), 'w') as train_f:\n",
    "    train_f.write(str(len(train)) + '\\n')\n",
    "    \n",
    "    for idx in range(len(train)):\n",
    "        e1, rel, e2 = train[idx]\n",
    "        e1_id = unique_entities.index(e1)\n",
    "        e2_id = unique_entities.index(e2)\n",
    "        rel_id = unique_relations.index(rel)\n",
    "        \n",
    "        train_f.write(f'{e1_id}\\t{e2_id}\\t{rel_id}\\n')"
   ]
  },
  {
   "cell_type": "code",
   "execution_count": null,
   "id": "3170a322-1a2a-4d99-91fa-58fe10f99ae1",
   "metadata": {},
   "outputs": [],
   "source": [
    "with open(os.path.join(benchmark_folder, 'test2id.txt'), 'w') as test_f:\n",
    "    test_f.write(str(len(test)) + '\\n')\n",
    "    \n",
    "    for idx in range(len(test)):\n",
    "        e1, rel, e2 = test[idx]\n",
    "        e1_id = unique_entities.index(e1)\n",
    "        e2_id = unique_entities.index(e2)\n",
    "        rel_id = unique_relations.index(rel)\n",
    "        \n",
    "        test_f.write(f'{e1_id}\\t{e2_id}\\t{rel_id}\\n')"
   ]
  },
  {
   "cell_type": "code",
   "execution_count": null,
   "id": "d6447b30-bd3a-41a4-b1a3-1b58a70c5850",
   "metadata": {},
   "outputs": [],
   "source": [
    "with open(os.path.join(benchmark_folder, 'valid2id.txt'), 'w') as validation_f:\n",
    "    validation_f.write(str(len(validation)) + '\\n')\n",
    "    \n",
    "    for idx in range(len(validation)):\n",
    "        e1, rel, e2 = validation[idx]\n",
    "        e1_id = unique_entities.index(e1)\n",
    "        e2_id = unique_entities.index(e2)\n",
    "        rel_id = unique_relations.index(rel)\n",
    "        \n",
    "        validation_f.write(f'{e1_id}\\t{e2_id}\\t{rel_id}\\n')"
   ]
  }
 ],
 "metadata": {
  "kernelspec": {
   "display_name": "Python 3 (ipykernel)",
   "language": "python",
   "name": "python3"
  },
  "language_info": {
   "codemirror_mode": {
    "name": "ipython",
    "version": 3
   },
   "file_extension": ".py",
   "mimetype": "text/x-python",
   "name": "python",
   "nbconvert_exporter": "python",
   "pygments_lexer": "ipython3",
   "version": "3.9.12"
  }
 },
 "nbformat": 4,
 "nbformat_minor": 5
}
